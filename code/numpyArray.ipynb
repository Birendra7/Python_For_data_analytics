{
 "cells": [
  {
   "cell_type": "code",
   "execution_count": null,
   "id": "9da491c1-954c-4db9-a290-2039d165491a",
   "metadata": {},
   "outputs": [],
   "source": []
  }
 ],
 "metadata": {
  "kernelspec": {
   "display_name": "",
   "name": ""
  },
  "language_info": {
   "name": ""
  }
 },
 "nbformat": 4,
 "nbformat_minor": 5
}
